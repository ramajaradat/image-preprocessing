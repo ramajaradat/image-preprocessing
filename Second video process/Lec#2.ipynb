{
 "cells": [
  {
   "cell_type": "markdown",
   "metadata": {},
   "source": [
    "## Lemon"
   ]
  },
  {
   "cell_type": "code",
   "execution_count": 12,
   "metadata": {},
   "outputs": [],
   "source": [
    "import cv2\n",
    "import numpy as np  "
   ]
  },
  {
   "cell_type": "code",
   "execution_count": 13,
   "metadata": {},
   "outputs": [],
   "source": [
    "cap = cv2.VideoCapture(\"./data_2/lemon.mp4\")"
   ]
  },
  {
   "cell_type": "code",
   "execution_count": 14,
   "metadata": {},
   "outputs": [
    {
     "data": {
      "text/plain": [
       "cv2.VideoCapture"
      ]
     },
     "execution_count": 14,
     "metadata": {},
     "output_type": "execute_result"
    }
   ],
   "source": [
    "type(cap)"
   ]
  },
  {
   "cell_type": "code",
   "execution_count": 15,
   "metadata": {},
   "outputs": [],
   "source": [
    "cv2.namedWindow(\"input\")\n",
    "cv2.namedWindow(\"output\")\n",
    "cv2.namedWindow(\"Hue channel\")\n",
    "cv2.waitKey(1000) \n",
    "cv2.destroyAllWindows()"
   ]
  },
  {
   "cell_type": "code",
   "execution_count": 16,
   "metadata": {},
   "outputs": [],
   "source": [
    "while True:\n",
    "    \n",
    "    ret, frame = cap.read()\n",
    "\n",
    "    if ret == False:\n",
    "        break\n",
    "\n",
    "    #convert frames to HSV format\n",
    "    hsv = cv2.cvtColor(frame, cv2.COLOR_BGR2HSV)\n",
    "\n",
    "    #select the hue channel (0) --> h 0 | s 1 | v 2\n",
    "    h = hsv[:,:,0]\n",
    "\n",
    "    #apply threshold\n",
    "    copy = h.copy()\n",
    "    h[copy>40] = 0\n",
    "    h[copy<=40] = 1\n",
    "   \n",
    "    #show windows (images) \n",
    "    cv2.imshow(\"input\", frame)\n",
    "    # cv2.imshow(\"output\", frame * h[:,:,np.newaxis])\n",
    "    # cv2.imshow(\"hue\", h * 255)\n",
    "\n",
    "    #close windows & waiting time\n",
    "    if cv2.waitKey(1000) & 0xFF == ord(\"q\"):\n",
    "        break\n",
    "\n",
    "\n",
    "cap.release()\n",
    "cv2.destroyAllWindows()\n"
   ]
  },
  {
   "cell_type": "code",
   "execution_count": 18,
   "metadata": {},
   "outputs": [],
   "source": [
    "#help & guide\n",
    "img = cv2.imread(\"./data_2/human.jpg\")\n",
    "img = cv2.cvtColor(img, cv2.COLOR_BGR2HSV)\n",
    "cv2.imshow(\"human\",img[:,:,0])\n",
    "cv2.waitKey(0)\n",
    "cv2.destroyAllWindows()"
   ]
  },
  {
   "cell_type": "markdown",
   "metadata": {},
   "source": [
    "## People"
   ]
  },
  {
   "cell_type": "code",
   "execution_count": 19,
   "metadata": {},
   "outputs": [],
   "source": [
    "import cv2\n",
    "import numpy as np  "
   ]
  },
  {
   "cell_type": "code",
   "execution_count": 20,
   "metadata": {},
   "outputs": [],
   "source": [
    "video = cv2.VideoCapture(\"./data_2/people.mp4\")"
   ]
  },
  {
   "cell_type": "code",
   "execution_count": 21,
   "metadata": {},
   "outputs": [
    {
     "name": "stdout",
     "output_type": "stream",
     "text": [
      "opened\n"
     ]
    }
   ],
   "source": [
    "# checking if we opened video\n",
    "if video.isOpened()== False:\n",
    "    print(\"not opened\")\n",
    "else:\n",
    "    print(\"opened\")"
   ]
  },
  {
   "cell_type": "code",
   "execution_count": 22,
   "metadata": {},
   "outputs": [],
   "source": [
    "ret, frame = video.read()"
   ]
  },
  {
   "cell_type": "code",
   "execution_count": 23,
   "metadata": {},
   "outputs": [
    {
     "data": {
      "text/plain": [
       "(bool, numpy.ndarray, (360, 640, 3))"
      ]
     },
     "execution_count": 23,
     "metadata": {},
     "output_type": "execute_result"
    }
   ],
   "source": [
    "type(ret), type(frame), frame.shape"
   ]
  },
  {
   "cell_type": "code",
   "execution_count": 24,
   "metadata": {},
   "outputs": [
    {
     "data": {
      "text/plain": [
       "True"
      ]
     },
     "execution_count": 24,
     "metadata": {},
     "output_type": "execute_result"
    }
   ],
   "source": [
    "ret"
   ]
  },
  {
   "cell_type": "code",
   "execution_count": 25,
   "metadata": {},
   "outputs": [
    {
     "data": {
      "text/plain": [
       "True"
      ]
     },
     "execution_count": 25,
     "metadata": {},
     "output_type": "execute_result"
    }
   ],
   "source": [
    "# cv2.imshow(\"first\", frame)\n",
    "cv2.imwrite(\"firstframe.jpg\", frame)\n",
    "# cv2.waitKey(0)\n",
    "# cv2.destroyAllWindows()"
   ]
  },
  {
   "cell_type": "code",
   "execution_count": 26,
   "metadata": {},
   "outputs": [
    {
     "name": "stdout",
     "output_type": "stream",
     "text": [
      "read frame\n"
     ]
    }
   ],
   "source": [
    "# checking first frame\n",
    "if ret == False:\n",
    "    print(\"can not read frame\")\n",
    "else:\n",
    "    print(\"read frame\")"
   ]
  },
  {
   "cell_type": "code",
   "execution_count": 27,
   "metadata": {},
   "outputs": [],
   "source": [
    "box = cv2.selectROI(frame)\n",
    "cv2.waitKey(0)\n",
    "cv2.destroyAllWindows()"
   ]
  },
  {
   "cell_type": "code",
   "execution_count": 28,
   "metadata": {},
   "outputs": [
    {
     "data": {
      "text/plain": [
       "(48, 19, 174, 341)"
      ]
     },
     "execution_count": 28,
     "metadata": {},
     "output_type": "execute_result"
    }
   ],
   "source": [
    "box"
   ]
  },
  {
   "cell_type": "code",
   "execution_count": 29,
   "metadata": {},
   "outputs": [],
   "source": [
    "# track the selected object using medianflow tracker\n",
    "tracker = cv2.legacy.TrackerMedianFlow_create()"
   ]
  },
  {
   "cell_type": "code",
   "execution_count": 30,
   "metadata": {},
   "outputs": [
    {
     "data": {
      "text/plain": [
       "cv2.legacy_TrackerMedianFlow"
      ]
     },
     "execution_count": 30,
     "metadata": {},
     "output_type": "execute_result"
    }
   ],
   "source": [
    "type(tracker)"
   ]
  },
  {
   "cell_type": "code",
   "execution_count": 31,
   "metadata": {},
   "outputs": [],
   "source": [
    "#warm-up out tracker\n",
    "ret = tracker.init(frame, box)"
   ]
  },
  {
   "cell_type": "code",
   "execution_count": 32,
   "metadata": {},
   "outputs": [],
   "source": [
    "cv2.imshow(\"tracker\", frame)\n",
    "cv2.waitKey(0)\n",
    "cv2.destroyAllWindows()"
   ]
  },
  {
   "cell_type": "code",
   "execution_count": 33,
   "metadata": {},
   "outputs": [],
   "source": [
    "while True:\n",
    "    \n",
    "    #read all frames (next - next - next)\n",
    "    ret, frame = video.read()\n",
    "\n",
    "    #check frame\n",
    "    if ret == False:\n",
    "        break\n",
    "\n",
    "    #update tracker\n",
    "    found, bbox = tracker.update(frame)\n",
    "\n",
    "    if found:\n",
    "\n",
    "        #top-left corner\n",
    "        topleft = (int(bbox[0]), int(bbox[1]))\n",
    "\n",
    "        #bottom-right corner\n",
    "        bottomright = (int(bbox[0]+bbox[2]), int(bbox[1]+bbox[3]))\n",
    "\n",
    "        #display box\n",
    "        cv2.rectangle(frame, topleft, bottomright,(0,0,255),3)\n",
    "    else:\n",
    "        #display status\n",
    "        cv2.putText(frame, \"not found\", (20,70), cv2.FONT_HERSHEY_SCRIPT_SIMPLEX,0.75, (0,0,255),3)\n",
    "        \n",
    "    #display frame\n",
    "    cv2.imshow(\"tracker\", frame)\n",
    "    space = cv2.waitKey(0)\n",
    "    if space == 30:\n",
    "        break\n",
    "    \n"
   ]
  },
  {
   "cell_type": "code",
   "execution_count": null,
   "metadata": {},
   "outputs": [],
   "source": [
    "cv2.destroyAllWindows()   "
   ]
  }
 ],
 "metadata": {
  "kernelspec": {
   "display_name": ".venv",
   "language": "python",
   "name": "python3"
  },
  "language_info": {
   "codemirror_mode": {
    "name": "ipython",
    "version": 3
   },
   "file_extension": ".py",
   "mimetype": "text/x-python",
   "name": "python",
   "nbconvert_exporter": "python",
   "pygments_lexer": "ipython3",
   "version": "3.12.1"
  }
 },
 "nbformat": 4,
 "nbformat_minor": 2
}
