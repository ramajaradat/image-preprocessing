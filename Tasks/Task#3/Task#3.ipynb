{
 "cells": [
  {
   "cell_type": "markdown",
   "metadata": {},
   "source": [
    "Object detection (human)\n",
    "\n",
    "Using (haarcascade_fullbody.xml) & (walking.avi) to detect human then display the result in a window using OpenCv"
   ]
  },
  {
   "cell_type": "code",
   "execution_count": 36,
   "metadata": {},
   "outputs": [],
   "source": [
    "import cv2\n",
    "import numpy as np"
   ]
  },
  {
   "cell_type": "code",
   "execution_count": 37,
   "metadata": {},
   "outputs": [],
   "source": [
    "haar_cascae_body=\"C://Users//user//Desktop//mycv//Second video image process//data_2//xml//haarcascade_fullbody.xml\""
   ]
  },
  {
   "cell_type": "code",
   "execution_count": 38,
   "metadata": {},
   "outputs": [],
   "source": [
    "body_class = cv2.CascadeClassifier (haar_cascae_body)"
   ]
  },
  {
   "cell_type": "code",
   "execution_count": 39,
   "metadata": {},
   "outputs": [],
   "source": [
    "cap= cv2.VideoCapture(\"C://Users//user//Desktop//mycv//Second video image process//data_2//walking.avi\")"
   ]
  },
  {
   "cell_type": "code",
   "execution_count": 41,
   "metadata": {},
   "outputs": [],
   "source": [
    "while True:   \n",
    "    ret,frame=cap.read()  \n",
    "    \n",
    "    if ret == False:\n",
    "        break      \n",
    "    \n",
    "    gray=cv2.cvtColor(frame,cv2.COLOR_BGR2GRAY)\n",
    "    body=body_class.detectMultiScale(gray, 1.1, 5)\n",
    "        \n",
    "    for(x,y,w,h) in body:\n",
    "        cv2.rectangle(frame,(x,y),(x+w,y+h),(0,255,0),2)          \n",
    "        cv2.putText(frame,\"body\",(x,y),cv2.FONT_HERSHEY_SIMPLEX ,0.5, (0,0,255))  \n",
    "        \n",
    "    cv2.imshow(\"body\",frame)\n",
    "    if cv2.waitKey(40) & 0xFF == ord(\"q\"):      \n",
    "        break \n",
    "cap.release()\n",
    "cv2.destroyAllWindows()"
   ]
  },
  {
   "cell_type": "markdown",
   "metadata": {},
   "source": [
    "Great Job Friends 🤗"
   ]
  }
 ],
 "metadata": {
  "kernelspec": {
   "display_name": ".venv",
   "language": "python",
   "name": "python3"
  },
  "language_info": {
   "codemirror_mode": {
    "name": "ipython",
    "version": 3
   },
   "file_extension": ".py",
   "mimetype": "text/x-python",
   "name": "python",
   "nbconvert_exporter": "python",
   "pygments_lexer": "ipython3",
   "version": "3.12.1"
  }
 },
 "nbformat": 4,
 "nbformat_minor": 2
}
