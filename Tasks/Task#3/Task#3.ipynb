{
 "cells": [
  {
   "cell_type": "code",
   "execution_count": 65,
   "metadata": {},
   "outputs": [],
   "source": [
    "import cv2\n",
    "import numpy as np"
   ]
  },
  {
   "cell_type": "code",
   "execution_count": 66,
   "metadata": {},
   "outputs": [],
   "source": [
    "haar_cascae_body=\"C://Users//user//Desktop//mycv//Second video image process//data_2//xml//haarcascade_fullbody.xml\""
   ]
  },
  {
   "cell_type": "code",
   "execution_count": 67,
   "metadata": {},
   "outputs": [],
   "source": [
    "body_class = cv2.CascadeClassifier (haar_cascae_body)"
   ]
  },
  {
   "cell_type": "code",
   "execution_count": 68,
   "metadata": {},
   "outputs": [],
   "source": [
    "cap= cv2.VideoCapture(\"C://Users//user//Desktop//mycv//Second video image process//data_2//walking.avi\")"
   ]
  },
  {
   "cell_type": "code",
   "execution_count": 69,
   "metadata": {},
   "outputs": [],
   "source": [
    "count=0\n",
    "while cap.isOpened():\n",
    "    count+=1\n",
    "    if count  % 10==0:      \n",
    "        ret,frame=cap.read()        \n",
    "        gray=cv2.cvtColor(frame,cv2.COLOR_BGR2GRAY)\n",
    "        body=body_class.detectMultiScale(gray, 1.1, 5)\n",
    "        \n",
    "        for(x,y,w,h) in body:\n",
    "            cv2.rectangle(frame,(x,y),(x+w,y+h),(0,255,0),2)          \n",
    "            cv2.putText(frame,\"body\",(x,y),cv2.FONT_HERSHEY_SIMPLEX ,0.5, (0,0,255))  \n",
    "        cv2.imshow(\"body\",frame)\n",
    "    if cv2.waitKey(1) & 0xFF == ord(\"q\"):      \n",
    "        break \n",
    "cap.release()\n",
    "cv2.destroyAllWindows()"
   ]
  }
 ],
 "metadata": {
  "kernelspec": {
   "display_name": ".venv",
   "language": "python",
   "name": "python3"
  },
  "language_info": {
   "codemirror_mode": {
    "name": "ipython",
    "version": 3
   },
   "file_extension": ".py",
   "mimetype": "text/x-python",
   "name": "python",
   "nbconvert_exporter": "python",
   "pygments_lexer": "ipython3",
   "version": "3.12.1"
  }
 },
 "nbformat": 4,
 "nbformat_minor": 2
}
